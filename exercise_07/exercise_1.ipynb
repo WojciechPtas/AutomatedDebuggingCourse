{
 "cells": [
  {
   "cell_type": "code",
   "execution_count": 1,
   "metadata": {},
   "outputs": [],
   "source": [
    "from fuzzingbook.GrammarFuzzer import GrammarFuzzer\n",
    "from fuzzingbook.Grammars import Grammar\n",
    "from debuggingbook.DeltaDebugger import DeltaDebugger\n",
    "from debuggingbook.DDSetDebugger import DDSetDebugger\n",
    "from exercise_1 import heartbeat"
   ]
  },
  {
   "attachments": {},
   "cell_type": "markdown",
   "metadata": {},
   "source": [
    "#### 1."
   ]
  },
  {
   "cell_type": "code",
   "execution_count": 2,
   "metadata": {},
   "outputs": [],
   "source": [
    "hearbeat_grammar: Grammar={\"<start>\":[\"<n>\"], \"<n>\": [\"<n><symbol>\",\"<symbol>\"], \"<symbol>\": ['a','b','c','d','e','f']}"
   ]
  },
  {
   "attachments": {},
   "cell_type": "markdown",
   "metadata": {},
   "source": [
    "#### 2. & 3."
   ]
  },
  {
   "cell_type": "code",
   "execution_count": 3,
   "metadata": {},
   "outputs": [
    {
     "name": "stdout",
     "output_type": "stream",
     "text": [
      "a\n",
      "{'length': 3, 'payload': ''}\n"
     ]
    }
   ],
   "source": [
    "G=GrammarFuzzer(hearbeat_grammar)\n",
    "#for i in range(10):\n",
    "fuzzed_input: str = G.fuzz()\n",
    "print(fuzzed_input)\n",
    "with DeltaDebugger() as dd:\n",
    "    heartbeat(3,fuzzed_input)\n",
    "print(dd.min_args())\n"
   ]
  },
  {
   "attachments": {},
   "cell_type": "markdown",
   "metadata": {},
   "source": [
    "The minimzed input is just an empty string, which is correct, but does not explain the failure reason properly."
   ]
  },
  {
   "cell_type": "code",
   "execution_count": 7,
   "metadata": {},
   "outputs": [
    {
     "data": {
      "text/plain": [
       "heartbeat(length=3, payload='<n>')"
      ]
     },
     "execution_count": 7,
     "metadata": {},
     "output_type": "execute_result"
    }
   ],
   "source": [
    "with DDSetDebugger(hearbeat_grammar) as dds:\n",
    "    heartbeat(3,fuzzed_input)\n",
    "dds"
   ]
  },
  {
   "attachments": {},
   "cell_type": "markdown",
   "metadata": {},
   "source": [
    "#### 4.1\n",
    "\n",
    "The pattern presented by DDSetDebugger is incorrect, because not all instantiations of this pattern will lead to failure of the heartbeat function.\n"
   ]
  },
  {
   "cell_type": "code",
   "execution_count": 9,
   "metadata": {},
   "outputs": [
    {
     "name": "stdout",
     "output_type": "stream",
     "text": [
      "Succes rate:0.8803\n"
     ]
    }
   ],
   "source": [
    "fail:int =0\n",
    "n: int =10000\n",
    "for i in range(n):\n",
    "    gen=dds.fuzz_args()\n",
    "    a=gen['length']\n",
    "    b=gen['payload']\n",
    "    try:\n",
    "        heartbeat(a,b)\n",
    "    except AssertionError:\n",
    "        fail=fail+1\n",
    "\n",
    "print(f\"Succes rate:{float(fail/n)}\")"
   ]
  },
  {
   "attachments": {},
   "cell_type": "markdown",
   "metadata": {},
   "source": [
    "#### 4.2\n",
    "As succes rate is equal to around 0.86, it is not that high, we would expect it to be 100%, as the DDSetDebugger should produce only failing inputs"
   ]
  },
  {
   "attachments": {},
   "cell_type": "markdown",
   "metadata": {},
   "source": [
    "#### 4.3\n",
    "To make DDSetDebugger more infomative, it should take into account how many terminals symbols can be produced from the given terminal. By testing the obtained pattern it could learn that the problem lies in the length of the payload"
   ]
  }
 ],
 "metadata": {
  "kernelspec": {
   "display_name": "Python 3",
   "language": "python",
   "name": "python3"
  },
  "language_info": {
   "codemirror_mode": {
    "name": "ipython",
    "version": 3
   },
   "file_extension": ".py",
   "mimetype": "text/x-python",
   "name": "python",
   "nbconvert_exporter": "python",
   "pygments_lexer": "ipython3",
   "version": "3.10.8"
  },
  "orig_nbformat": 4,
  "vscode": {
   "interpreter": {
    "hash": "c39b9f436e3d727475a287bf95a6f7ce981180abdd32cddee36c0e9901b8568c"
   }
  }
 },
 "nbformat": 4,
 "nbformat_minor": 2
}
